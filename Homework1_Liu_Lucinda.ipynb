{
  "nbformat": 4,
  "nbformat_minor": 0,
  "metadata": {
    "colab": {
      "name": "Homework1_Liu_Lucinda.ipynb",
      "provenance": [],
      "collapsed_sections": []
    },
    "kernelspec": {
      "name": "python3",
      "display_name": "Python 3"
    }
  },
  "cells": [
    {
      "cell_type": "markdown",
      "metadata": {
        "id": "hm8RAKinXsIP"
      },
      "source": [
        "## **Homework 1**\n",
        "\n",
        "### Create a copy of the notebook to start answering the questions. Name your notebook in the format HW1_lastname_firstname.ipynb to facilitate the grading process. \n",
        "\n",
        "### Answer all the questions, test your code to ensure there are no errors and the results are as expected. Once you have answered all the questions, save the final copy, then go to File-> click on Download.ipynb. Once the local copy has been downloaded, submit your file on Blackboard under the corresponding assignment section. Also provide us a link to your notebook during submission. \n",
        "\n",
        "### **The due date of this homework is 02/05/2021 (Friday).**\n",
        "\n",
        "### Please ensure you follow all the steps mentioned in the homework.\n",
        "\n",
        "### All the questions have a sample input and output to help you understand the question. Please note that your programs will be tested for other sets of inputs and outputs along with the sample provided. So test your code for other inputs.\n",
        "\n",
        "### You can submit your solutions any number of times until the deadline.\n"
      ]
    },
    {
      "cell_type": "markdown",
      "metadata": {
        "id": "uacFrEaZfcfq"
      },
      "source": [
        "##### Q1. Write a program that prompts the user to enter a password then prints the length of the password.\n",
        "\n",
        "```\n",
        "Enter your password: hello\n",
        "Your password is 5 long.\n",
        "```\n",
        "\n",
        "\n"
      ]
    },
    {
      "cell_type": "code",
      "metadata": {
        "id": "avPyES14ftCt",
        "colab": {
          "base_uri": "https://localhost:8080/"
        },
        "outputId": "f223e917-7e3a-4d15-e3d6-f6f2fe6947a7"
      },
      "source": [
        "# Type solution here\n",
        "password = input(\"Enter your password: \")\n",
        "print(\"Your password is\",len(password),\"long.\")"
      ],
      "execution_count": null,
      "outputs": [
        {
          "output_type": "stream",
          "text": [
            "Enter your password: hello\n",
            "Your password is 5 long.\n"
          ],
          "name": "stdout"
        }
      ]
    },
    {
      "cell_type": "markdown",
      "metadata": {
        "id": "ekh-kABuItli"
      },
      "source": [
        ""
      ]
    },
    {
      "cell_type": "markdown",
      "metadata": {
        "id": "K1yko-xUItU3"
      },
      "source": [
        ""
      ]
    },
    {
      "cell_type": "markdown",
      "metadata": {
        "id": "behD0j_Of2TW"
      },
      "source": [
        "##### Q2. Write a program that prompts the user to enter their full name then prints the number of characters in their name (do not count spaces).\n",
        "\n",
        "```\n",
        "What is your name? Amulya Katti\n",
        "Amulya Katti your name has 11 characters.\n",
        "```"
      ]
    },
    {
      "cell_type": "code",
      "metadata": {
        "id": "XSdIRjwlhSlu",
        "colab": {
          "base_uri": "https://localhost:8080/"
        },
        "outputId": "d3f470c3-eeea-4fc4-da01-af4c091a6455"
      },
      "source": [
        "# Type solution here\n",
        "name = input(\"What is your name? \")\n",
        "space = name.count(\" \")\n",
        "print(name,\"your name has\",len(name)-space,\"characters.\")"
      ],
      "execution_count": null,
      "outputs": [
        {
          "output_type": "stream",
          "text": [
            "What is your name? Luc Liu L\n",
            "Luc Liu L your name has 7 characters.\n"
          ],
          "name": "stdout"
        }
      ]
    },
    {
      "cell_type": "markdown",
      "metadata": {
        "id": "5KHOWF6FhVHV"
      },
      "source": [
        "##### Q3. Write a program that prompts the user to enter a month (as a number), then prints the name of the month and the number of days in that month. Ensure that the user inputs a valid month and handle any error cases.\n",
        "\n",
        "```\n",
        "Enter the month number: 9\n",
        "September has 30 days\n",
        "```"
      ]
    },
    {
      "cell_type": "code",
      "metadata": {
        "id": "KhS-SAEThyTG",
        "colab": {
          "base_uri": "https://localhost:8080/"
        },
        "outputId": "60a000b6-f8c8-49ea-806a-ad98a68a341d"
      },
      "source": [
        "# Type solution here\n",
        "monthList = ['January', 'February','March','April','May','June','July','August','September','October','November','December']\n",
        "Day31 = [1,3,5,7,8,10,12]\n",
        "Day30 = [4,6,9,11]\n",
        "\n",
        "month = int(input(\"Enter the month number: \"))\n",
        "while month < 1 or month > 12:\n",
        "  month = input(\"Enter the month number: \")\n",
        "if month in Day31:\n",
        "  print(monthList[month-1],\"has 31 days\")\n",
        "elif month in Day30:\n",
        "  print(monthList[month-1],\"has 30 days\")\n",
        "else:\n",
        "  print('February has 28 days or 30 if leap year')"
      ],
      "execution_count": null,
      "outputs": [
        {
          "output_type": "stream",
          "text": [
            "Enter the month number: 13\n"
          ],
          "name": "stdout"
        }
      ]
    },
    {
      "cell_type": "markdown",
      "metadata": {
        "id": "O7lnAdGlh6Xa"
      },
      "source": [
        "##### Q4. Write a program that prompts the user to enter a loan amount, annual interest rate, and number of years  for a car loan. Then calculate and print the monthly payment amount.\n",
        "\n",
        "Note:\n",
        "```\n",
        "PMT= [PV*i*((1+i)^n)]/[((1+i)^n)-1]\n",
        "```\n",
        "PMT is the monthly payment\n",
        "\n",
        "PV is the loan amount\n",
        "\n",
        "i is the interest rate per month in decimal form (interest rate percentage divided by 12)\n",
        "\n",
        "n is the number of months (term of the loan in months)\n",
        "\n",
        "```\n",
        "Loan Amount: 30000.00\n",
        "Annual Interest Rate: 4.00\n",
        "Years: 5\n",
        "Your monthly payment is: $552.50\n",
        "```"
      ]
    },
    {
      "cell_type": "code",
      "metadata": {
        "id": "p4B5JH5GiTs9",
        "colab": {
          "base_uri": "https://localhost:8080/"
        },
        "outputId": "37ebf84b-41e1-4b8b-f63f-527871511515"
      },
      "source": [
        "# Type solution here\n",
        "PV = int(input(\"Loan Amount: \"))\n",
        "AR = int(input(\"Annual Interest Rate: \"))\n",
        "i = (AR/12)/100\n",
        "years = int(input(\"Years: \"))\n",
        "n = years * 12\n",
        "PMT = (PV*i*((1+i)**n))/(((1+i)**n)-1)\n",
        "print(\"Your monthly payment is: $\"+str(round(PMT,2)))\n",
        "\n"
      ],
      "execution_count": 2,
      "outputs": [
        {
          "output_type": "stream",
          "text": [
            "Loan Amount: 30000\n",
            "Annual Interest Rate: 4\n",
            "Years: 5\n",
            "Your monthly payment is: $552.5\n"
          ],
          "name": "stdout"
        }
      ]
    },
    {
      "cell_type": "markdown",
      "metadata": {
        "id": "SjiolJKgiWV-"
      },
      "source": [
        "##### Q5. Write a program to that prompts the user to enter a string. Then check whether or not the string is a palindrome.\n",
        "\n",
        "```\n",
        "Enter a string: Madam\n",
        "Madam, is a palindrome!\n",
        "```"
      ]
    },
    {
      "cell_type": "code",
      "metadata": {
        "id": "F5_M934Ri0es",
        "colab": {
          "base_uri": "https://localhost:8080/"
        },
        "outputId": "319b1a63-1186-42fd-fc2c-f6c2922d8e73"
      },
      "source": [
        "# Type solution here\n",
        "word = str(input(\"Enter a string: \"))\n",
        "if word[::-1] == word:\n",
        "  print(word,\"is a palindrome!\")\n",
        "else:\n",
        "  print(word,\"is not a palindrome!\")"
      ],
      "execution_count": null,
      "outputs": [
        {
          "output_type": "stream",
          "text": [
            "Enter a string: dog\n",
            "dog is not a palindrome!\n"
          ],
          "name": "stdout"
        }
      ]
    },
    {
      "cell_type": "markdown",
      "metadata": {
        "id": "BLBD6n9vkJEu"
      },
      "source": [
        "##### Q6. Write a program to compute and print all possible combinations of change for \\$1. Denominations to be considered – quarter, dime, nickel, penny.\n",
        "\n",
        "Hint: Use nested loops (loops within loops for the various denominations of coins)\n",
        "\n",
        "```\n",
        "Change for $1:\n",
        "0 quarters, 0 dimes, 0 nickels, 100 pennies\n",
        "…\n",
        "4 quarters, 0 dimes, 0 nickels, 0 pennies\n",
        "```"
      ]
    },
    {
      "cell_type": "code",
      "metadata": {
        "id": "kAQsTjwDkZZ5",
        "colab": {
          "base_uri": "https://localhost:8080/"
        },
        "outputId": "630dd994-7206-48aa-d6d0-d3982a87b144"
      },
      "source": [
        "# Type solution here\n",
        "import numpy as np\n",
        "\n",
        "penny = 0.01\n",
        "nickel = 0.05\n",
        "dime = 0.1\n",
        "quarter = 0.25\n",
        "print(\"Change for $1: \")\n",
        "total = np.array([quarter,dime,nickel,penny])\n",
        "for q in range(0,5):\n",
        "  for d in range(0,11):\n",
        "    for n in range(0,21):\n",
        "      for p in range(0,101):\n",
        "        change = np.array([q,d,n,p])\n",
        "        check = ((total*change).sum())\n",
        "        if check == 1:\n",
        "          print(str(change[0]),\"quarters\",str(change[1]),\"dimes\",str(change[2]),\"nickles\",str(change[3]),\"pennies\")\n"
      ],
      "execution_count": 13,
      "outputs": [
        {
          "output_type": "stream",
          "text": [
            "Change for $1: \n",
            "0 quarters 0 dimes 0 nickles 100 pennies\n",
            "0 quarters 0 dimes 1 nickles 95 pennies\n",
            "0 quarters 0 dimes 2 nickles 90 pennies\n",
            "0 quarters 0 dimes 3 nickles 85 pennies\n",
            "0 quarters 0 dimes 4 nickles 80 pennies\n",
            "0 quarters 0 dimes 5 nickles 75 pennies\n",
            "0 quarters 0 dimes 6 nickles 70 pennies\n",
            "0 quarters 0 dimes 7 nickles 65 pennies\n",
            "0 quarters 0 dimes 8 nickles 60 pennies\n",
            "0 quarters 0 dimes 9 nickles 55 pennies\n",
            "0 quarters 0 dimes 10 nickles 50 pennies\n",
            "0 quarters 0 dimes 11 nickles 45 pennies\n",
            "0 quarters 0 dimes 12 nickles 40 pennies\n",
            "0 quarters 0 dimes 13 nickles 35 pennies\n",
            "0 quarters 0 dimes 14 nickles 30 pennies\n",
            "0 quarters 0 dimes 15 nickles 25 pennies\n",
            "0 quarters 0 dimes 16 nickles 20 pennies\n",
            "0 quarters 0 dimes 17 nickles 15 pennies\n",
            "0 quarters 0 dimes 18 nickles 10 pennies\n",
            "0 quarters 0 dimes 19 nickles 5 pennies\n",
            "0 quarters 0 dimes 20 nickles 0 pennies\n",
            "0 quarters 1 dimes 0 nickles 90 pennies\n",
            "0 quarters 1 dimes 1 nickles 85 pennies\n",
            "0 quarters 1 dimes 2 nickles 80 pennies\n",
            "0 quarters 1 dimes 3 nickles 75 pennies\n",
            "0 quarters 1 dimes 4 nickles 70 pennies\n",
            "0 quarters 1 dimes 5 nickles 65 pennies\n",
            "0 quarters 1 dimes 6 nickles 60 pennies\n",
            "0 quarters 1 dimes 7 nickles 55 pennies\n",
            "0 quarters 1 dimes 8 nickles 50 pennies\n",
            "0 quarters 1 dimes 9 nickles 45 pennies\n",
            "0 quarters 1 dimes 10 nickles 40 pennies\n",
            "0 quarters 1 dimes 11 nickles 35 pennies\n",
            "0 quarters 1 dimes 12 nickles 30 pennies\n",
            "0 quarters 1 dimes 13 nickles 25 pennies\n",
            "0 quarters 1 dimes 14 nickles 20 pennies\n",
            "0 quarters 1 dimes 15 nickles 15 pennies\n",
            "0 quarters 1 dimes 16 nickles 10 pennies\n",
            "0 quarters 1 dimes 17 nickles 5 pennies\n",
            "0 quarters 1 dimes 18 nickles 0 pennies\n",
            "0 quarters 2 dimes 0 nickles 80 pennies\n",
            "0 quarters 2 dimes 1 nickles 75 pennies\n",
            "0 quarters 2 dimes 2 nickles 70 pennies\n",
            "0 quarters 2 dimes 3 nickles 65 pennies\n",
            "0 quarters 2 dimes 4 nickles 60 pennies\n",
            "0 quarters 2 dimes 5 nickles 55 pennies\n",
            "0 quarters 2 dimes 6 nickles 50 pennies\n",
            "0 quarters 2 dimes 7 nickles 45 pennies\n",
            "0 quarters 2 dimes 8 nickles 40 pennies\n",
            "0 quarters 2 dimes 9 nickles 35 pennies\n",
            "0 quarters 2 dimes 10 nickles 30 pennies\n",
            "0 quarters 2 dimes 11 nickles 25 pennies\n",
            "0 quarters 2 dimes 12 nickles 20 pennies\n",
            "0 quarters 2 dimes 13 nickles 15 pennies\n",
            "0 quarters 2 dimes 15 nickles 5 pennies\n",
            "0 quarters 2 dimes 16 nickles 0 pennies\n",
            "0 quarters 3 dimes 0 nickles 70 pennies\n",
            "0 quarters 3 dimes 1 nickles 65 pennies\n",
            "0 quarters 3 dimes 2 nickles 60 pennies\n",
            "0 quarters 3 dimes 3 nickles 55 pennies\n",
            "0 quarters 3 dimes 4 nickles 50 pennies\n",
            "0 quarters 3 dimes 5 nickles 45 pennies\n",
            "0 quarters 3 dimes 6 nickles 40 pennies\n",
            "0 quarters 3 dimes 8 nickles 30 pennies\n",
            "0 quarters 3 dimes 9 nickles 25 pennies\n",
            "0 quarters 3 dimes 10 nickles 20 pennies\n",
            "0 quarters 3 dimes 11 nickles 15 pennies\n",
            "0 quarters 3 dimes 13 nickles 5 pennies\n",
            "0 quarters 3 dimes 14 nickles 0 pennies\n",
            "0 quarters 4 dimes 0 nickles 60 pennies\n",
            "0 quarters 4 dimes 1 nickles 55 pennies\n",
            "0 quarters 4 dimes 2 nickles 50 pennies\n",
            "0 quarters 4 dimes 3 nickles 45 pennies\n",
            "0 quarters 4 dimes 4 nickles 40 pennies\n",
            "0 quarters 4 dimes 5 nickles 35 pennies\n",
            "0 quarters 4 dimes 6 nickles 30 pennies\n",
            "0 quarters 4 dimes 7 nickles 25 pennies\n",
            "0 quarters 4 dimes 8 nickles 20 pennies\n",
            "0 quarters 4 dimes 9 nickles 15 pennies\n",
            "0 quarters 4 dimes 10 nickles 10 pennies\n",
            "0 quarters 4 dimes 11 nickles 5 pennies\n",
            "0 quarters 4 dimes 12 nickles 0 pennies\n",
            "0 quarters 5 dimes 0 nickles 50 pennies\n",
            "0 quarters 5 dimes 1 nickles 45 pennies\n",
            "0 quarters 5 dimes 2 nickles 40 pennies\n",
            "0 quarters 5 dimes 3 nickles 35 pennies\n",
            "0 quarters 5 dimes 4 nickles 30 pennies\n",
            "0 quarters 5 dimes 5 nickles 25 pennies\n",
            "0 quarters 5 dimes 6 nickles 20 pennies\n",
            "0 quarters 5 dimes 7 nickles 15 pennies\n",
            "0 quarters 5 dimes 8 nickles 10 pennies\n",
            "0 quarters 5 dimes 9 nickles 5 pennies\n",
            "0 quarters 5 dimes 10 nickles 0 pennies\n",
            "0 quarters 6 dimes 0 nickles 40 pennies\n",
            "0 quarters 6 dimes 2 nickles 30 pennies\n",
            "0 quarters 6 dimes 3 nickles 25 pennies\n",
            "0 quarters 6 dimes 4 nickles 20 pennies\n",
            "0 quarters 6 dimes 5 nickles 15 pennies\n",
            "0 quarters 6 dimes 8 nickles 0 pennies\n",
            "0 quarters 7 dimes 0 nickles 30 pennies\n",
            "0 quarters 7 dimes 1 nickles 25 pennies\n",
            "0 quarters 7 dimes 2 nickles 20 pennies\n",
            "0 quarters 7 dimes 3 nickles 15 pennies\n",
            "0 quarters 7 dimes 5 nickles 5 pennies\n",
            "0 quarters 7 dimes 6 nickles 0 pennies\n",
            "0 quarters 8 dimes 0 nickles 20 pennies\n",
            "0 quarters 8 dimes 1 nickles 15 pennies\n",
            "0 quarters 8 dimes 2 nickles 10 pennies\n",
            "0 quarters 8 dimes 3 nickles 5 pennies\n",
            "0 quarters 8 dimes 4 nickles 0 pennies\n",
            "0 quarters 9 dimes 0 nickles 10 pennies\n",
            "0 quarters 9 dimes 1 nickles 5 pennies\n",
            "0 quarters 9 dimes 2 nickles 0 pennies\n",
            "0 quarters 10 dimes 0 nickles 0 pennies\n",
            "1 quarters 0 dimes 0 nickles 75 pennies\n",
            "1 quarters 0 dimes 1 nickles 70 pennies\n",
            "1 quarters 0 dimes 2 nickles 65 pennies\n",
            "1 quarters 0 dimes 3 nickles 60 pennies\n",
            "1 quarters 0 dimes 4 nickles 55 pennies\n",
            "1 quarters 0 dimes 5 nickles 50 pennies\n",
            "1 quarters 0 dimes 6 nickles 45 pennies\n",
            "1 quarters 0 dimes 7 nickles 40 pennies\n",
            "1 quarters 0 dimes 8 nickles 35 pennies\n",
            "1 quarters 0 dimes 9 nickles 30 pennies\n",
            "1 quarters 0 dimes 10 nickles 25 pennies\n",
            "1 quarters 0 dimes 11 nickles 20 pennies\n",
            "1 quarters 0 dimes 12 nickles 15 pennies\n",
            "1 quarters 0 dimes 13 nickles 10 pennies\n",
            "1 quarters 0 dimes 14 nickles 5 pennies\n",
            "1 quarters 0 dimes 15 nickles 0 pennies\n",
            "1 quarters 1 dimes 0 nickles 65 pennies\n",
            "1 quarters 1 dimes 1 nickles 60 pennies\n",
            "1 quarters 1 dimes 2 nickles 55 pennies\n",
            "1 quarters 1 dimes 3 nickles 50 pennies\n",
            "1 quarters 1 dimes 4 nickles 45 pennies\n",
            "1 quarters 1 dimes 5 nickles 40 pennies\n",
            "1 quarters 1 dimes 6 nickles 35 pennies\n",
            "1 quarters 1 dimes 7 nickles 30 pennies\n",
            "1 quarters 1 dimes 8 nickles 25 pennies\n",
            "1 quarters 1 dimes 9 nickles 20 pennies\n",
            "1 quarters 1 dimes 10 nickles 15 pennies\n",
            "1 quarters 1 dimes 11 nickles 10 pennies\n",
            "1 quarters 1 dimes 12 nickles 5 pennies\n",
            "1 quarters 1 dimes 13 nickles 0 pennies\n",
            "1 quarters 2 dimes 0 nickles 55 pennies\n",
            "1 quarters 2 dimes 1 nickles 50 pennies\n",
            "1 quarters 2 dimes 2 nickles 45 pennies\n",
            "1 quarters 2 dimes 3 nickles 40 pennies\n",
            "1 quarters 2 dimes 4 nickles 35 pennies\n",
            "1 quarters 2 dimes 5 nickles 30 pennies\n",
            "1 quarters 2 dimes 6 nickles 25 pennies\n",
            "1 quarters 2 dimes 7 nickles 20 pennies\n",
            "1 quarters 2 dimes 8 nickles 15 pennies\n",
            "1 quarters 2 dimes 9 nickles 10 pennies\n",
            "1 quarters 2 dimes 10 nickles 5 pennies\n",
            "1 quarters 2 dimes 11 nickles 0 pennies\n",
            "1 quarters 3 dimes 0 nickles 45 pennies\n",
            "1 quarters 3 dimes 1 nickles 40 pennies\n",
            "1 quarters 3 dimes 2 nickles 35 pennies\n",
            "1 quarters 3 dimes 3 nickles 30 pennies\n",
            "1 quarters 3 dimes 4 nickles 25 pennies\n",
            "1 quarters 3 dimes 5 nickles 20 pennies\n",
            "1 quarters 3 dimes 6 nickles 15 pennies\n",
            "1 quarters 3 dimes 8 nickles 5 pennies\n",
            "1 quarters 3 dimes 9 nickles 0 pennies\n",
            "1 quarters 4 dimes 0 nickles 35 pennies\n",
            "1 quarters 4 dimes 1 nickles 30 pennies\n",
            "1 quarters 4 dimes 2 nickles 25 pennies\n",
            "1 quarters 4 dimes 3 nickles 20 pennies\n",
            "1 quarters 4 dimes 4 nickles 15 pennies\n",
            "1 quarters 4 dimes 5 nickles 10 pennies\n",
            "1 quarters 4 dimes 6 nickles 5 pennies\n",
            "1 quarters 4 dimes 7 nickles 0 pennies\n",
            "1 quarters 5 dimes 0 nickles 25 pennies\n",
            "1 quarters 5 dimes 1 nickles 20 pennies\n",
            "1 quarters 5 dimes 2 nickles 15 pennies\n",
            "1 quarters 5 dimes 3 nickles 10 pennies\n",
            "1 quarters 5 dimes 4 nickles 5 pennies\n",
            "1 quarters 5 dimes 5 nickles 0 pennies\n",
            "1 quarters 6 dimes 0 nickles 15 pennies\n",
            "1 quarters 6 dimes 2 nickles 5 pennies\n",
            "1 quarters 6 dimes 3 nickles 0 pennies\n",
            "1 quarters 7 dimes 0 nickles 5 pennies\n",
            "1 quarters 7 dimes 1 nickles 0 pennies\n",
            "2 quarters 0 dimes 0 nickles 50 pennies\n",
            "2 quarters 0 dimes 1 nickles 45 pennies\n",
            "2 quarters 0 dimes 2 nickles 40 pennies\n",
            "2 quarters 0 dimes 3 nickles 35 pennies\n",
            "2 quarters 0 dimes 4 nickles 30 pennies\n",
            "2 quarters 0 dimes 5 nickles 25 pennies\n",
            "2 quarters 0 dimes 6 nickles 20 pennies\n",
            "2 quarters 0 dimes 7 nickles 15 pennies\n",
            "2 quarters 0 dimes 8 nickles 10 pennies\n",
            "2 quarters 0 dimes 9 nickles 5 pennies\n",
            "2 quarters 0 dimes 10 nickles 0 pennies\n",
            "2 quarters 1 dimes 0 nickles 40 pennies\n",
            "2 quarters 1 dimes 1 nickles 35 pennies\n",
            "2 quarters 1 dimes 2 nickles 30 pennies\n",
            "2 quarters 1 dimes 3 nickles 25 pennies\n",
            "2 quarters 1 dimes 4 nickles 20 pennies\n",
            "2 quarters 1 dimes 5 nickles 15 pennies\n",
            "2 quarters 1 dimes 6 nickles 10 pennies\n",
            "2 quarters 1 dimes 7 nickles 5 pennies\n",
            "2 quarters 1 dimes 8 nickles 0 pennies\n",
            "2 quarters 2 dimes 0 nickles 30 pennies\n",
            "2 quarters 2 dimes 1 nickles 25 pennies\n",
            "2 quarters 2 dimes 2 nickles 20 pennies\n",
            "2 quarters 2 dimes 3 nickles 15 pennies\n",
            "2 quarters 2 dimes 5 nickles 5 pennies\n",
            "2 quarters 2 dimes 6 nickles 0 pennies\n",
            "2 quarters 3 dimes 0 nickles 20 pennies\n",
            "2 quarters 3 dimes 1 nickles 15 pennies\n",
            "2 quarters 3 dimes 2 nickles 10 pennies\n",
            "2 quarters 3 dimes 3 nickles 5 pennies\n",
            "2 quarters 3 dimes 4 nickles 0 pennies\n",
            "2 quarters 4 dimes 0 nickles 10 pennies\n",
            "2 quarters 4 dimes 1 nickles 5 pennies\n",
            "2 quarters 4 dimes 2 nickles 0 pennies\n",
            "2 quarters 5 dimes 0 nickles 0 pennies\n",
            "3 quarters 0 dimes 0 nickles 25 pennies\n",
            "3 quarters 0 dimes 1 nickles 20 pennies\n",
            "3 quarters 0 dimes 2 nickles 15 pennies\n",
            "3 quarters 0 dimes 3 nickles 10 pennies\n",
            "3 quarters 0 dimes 4 nickles 5 pennies\n",
            "3 quarters 0 dimes 5 nickles 0 pennies\n",
            "3 quarters 1 dimes 0 nickles 15 pennies\n",
            "3 quarters 1 dimes 1 nickles 10 pennies\n",
            "3 quarters 1 dimes 2 nickles 5 pennies\n",
            "3 quarters 1 dimes 3 nickles 0 pennies\n",
            "3 quarters 2 dimes 0 nickles 5 pennies\n",
            "3 quarters 2 dimes 1 nickles 0 pennies\n",
            "4 quarters 0 dimes 0 nickles 0 pennies\n"
          ],
          "name": "stdout"
        }
      ]
    },
    {
      "cell_type": "markdown",
      "metadata": {
        "id": "rUPDjYiIkbgs"
      },
      "source": [
        "##### Q7. Ask the user to enter two positive integers between 1 and 100. Read those integers. Then output a multiplication table of the first number times the second number. \n",
        "\n",
        "Note: You have to ensure the entered numbers are between 1 and 100 only.\n",
        "\n",
        "```\n",
        "Please enter an integer: 5\n",
        "Please enter another integer: 20\n",
        "5 x 1 = 5\n",
        "5 x 2 = 10\n",
        "5 x 3 = 15\n",
        "…\n",
        "5 x 20 = 100\n",
        "```"
      ]
    },
    {
      "cell_type": "code",
      "metadata": {
        "id": "Qg0Orv1klHzA",
        "colab": {
          "base_uri": "https://localhost:8080/"
        },
        "outputId": "4c5d6f5a-36e0-4acd-f541-20401cc3b012"
      },
      "source": [
        "# Type solution here\n",
        "int1 = int(input(\"Please enter an integer: \"))\n",
        "int2 = int(input(\"Please enter another integer: \"))\n",
        "i = 0\n",
        "while i < int2:\n",
        "  print(int1,\"x\",i+1,\"=\",int1*(i+1))\n",
        "  i = i+1"
      ],
      "execution_count": null,
      "outputs": [
        {
          "output_type": "stream",
          "text": [
            "Please enter an integer: 5\n",
            "Please enter another integer: 20\n",
            "5 x 1 = 5\n",
            "5 x 2 = 10\n",
            "5 x 3 = 15\n",
            "5 x 4 = 20\n",
            "5 x 5 = 25\n",
            "5 x 6 = 30\n",
            "5 x 7 = 35\n",
            "5 x 8 = 40\n",
            "5 x 9 = 45\n",
            "5 x 10 = 50\n",
            "5 x 11 = 55\n",
            "5 x 12 = 60\n",
            "5 x 13 = 65\n",
            "5 x 14 = 70\n",
            "5 x 15 = 75\n",
            "5 x 16 = 80\n",
            "5 x 17 = 85\n",
            "5 x 18 = 90\n",
            "5 x 19 = 95\n",
            "5 x 20 = 100\n"
          ],
          "name": "stdout"
        }
      ]
    },
    {
      "cell_type": "markdown",
      "metadata": {
        "id": "SbnbPUPTlLD9"
      },
      "source": [
        "##### Q8. Write a program to ask the user to enter a password. Then check to see if it is a valid password based on these requirements -\n",
        "\n",
        "Must be at least 8 characters long\n",
        "\n",
        "Must contain both uppercase and lowercase letters\n",
        "\n",
        "Must contain at least one number between 0-9\n",
        "\n",
        "Must contain a special character -!,@,#,$\n",
        "\n",
        "If the password is not valid, ask the user to re-enter. This should continue until the user enters a valid password. After a valid password is entered, print Access Granted!\n",
        "\n",
        "```\n",
        "Please enter a password. Follow these requirements - \n",
        "a. Must be at least 8 characters long\n",
        "b. Must contain both uppercase and lowercase letters\n",
        "c. Must contain at least one number between 0-9\n",
        "d. Must contain a special character -!,@,#,$\n",
        "Password: HelloWorld1\n",
        "Invalid password. Try again!\n",
        "Password: Hello@World1\n",
        "Access Granted!\n",
        "```\n"
      ]
    },
    {
      "cell_type": "code",
      "metadata": {
        "id": "OXmZ177Rl-RV",
        "colab": {
          "base_uri": "https://localhost:8080/"
        },
        "outputId": "6f1370c0-7429-484e-fba0-b95c73709765"
      },
      "source": [
        "# Type solution here\n",
        "\n",
        "special_character = ['!','@','#','$']\n",
        "numbers_list = ['0','1','2','3','4','5','6','7','8','9']\n",
        "\n",
        "print(\"Please enter a password. Follow these requirements -\\n\",\n",
        "\"a. Must be at least 8 characters long\\n\",\n",
        "\"b. Must contain both uppercase and lowercase letters\\n\",\n",
        "\"c. Must contain at least one number between 0-9\\n\",\n",
        "\"d. Must contain a special character -!,@,#,$\"\n",
        ")\n",
        "password = input('Password: ')\n",
        "while len(password) < 8:\n",
        "  print(\"Invalid password. Try again! \")\n",
        "  password = input('Password: ')\n",
        "\n",
        "checkPassword = False\n",
        "upper = False\n",
        "lower = False\n",
        "number = False\n",
        "sCharacter = False\n",
        "\n",
        "while checkPassword is False:\n",
        "  for i in password:\n",
        "    if i.isupper():\n",
        "      upper = True\n",
        "    if i.islower():\n",
        "      lower = True\n",
        "    if i in numbers_list:\n",
        "      number = True\n",
        "    if i in special_character:\n",
        "      sCharacter = True\n",
        "  if upper is True and lower is True and number is True and sCharacter is True:\n",
        "    checkPassword = True\n",
        "  else:\n",
        "    print(\"Invalid password. Try again! \")\n",
        "    password = input('Password: ')\n",
        "print(\"Access Granted!\")\n",
        "\n"
      ],
      "execution_count": 7,
      "outputs": [
        {
          "output_type": "stream",
          "text": [
            "Please enter a password. Follow these requirements -\n",
            " a. Must be at least 8 characters long\n",
            " b. Must contain both uppercase and lowercase letters\n",
            " c. Must contain at least one number between 0-9\n",
            " d. Must contain a special character -!,@,#,$\n",
            "Password: Hello@World1\n",
            "Access Granted!\n"
          ],
          "name": "stdout"
        }
      ]
    },
    {
      "cell_type": "markdown",
      "metadata": {
        "id": "-0sdutTDnTKA"
      },
      "source": [
        "##### Q9. Given the score sheet of participants in a competition, you are required to find the runner-up score. You are given scores in a list. Find the score of the runner-up.\n",
        "\n",
        "```\n",
        "list1 - [2, 3, 6, 6, 5]\n",
        "runner_up - 5\n",
        "\n",
        "list2 - [1, 7, 5, 3, 10, 4, 5, 5, 6, 11]\n",
        "runner_up - 10\n",
        "```"
      ]
    },
    {
      "cell_type": "code",
      "metadata": {
        "id": "12YP9OaqpGRK",
        "colab": {
          "base_uri": "https://localhost:8080/"
        },
        "outputId": "14ba523c-7456-4a42-db39-34ec847e3c1e"
      },
      "source": [
        "# Type solution here\n",
        "list1 = [2, 3, 6, 6, 5]\n",
        "list2 = [1, 7, 5, 3, 10, 4, 5, 5, 6, 11]\n",
        "list = []\n",
        "listChoice = int(input(\"enter the list to check: \"))\n",
        "while listChoice > 2:\n",
        "  listChoice = input(\"enter the list to check: \")\n",
        "if listChoice == 1:\n",
        "  list = list1\n",
        "elif listChoice == 2:\n",
        "  list = list2\n",
        "list.sort()\n",
        "i = 1\n",
        "if list[len(list)-1] == list[len(list)-2]:  #to avoid a list with 2+ of the same highest scores\n",
        "  nextNum = list[len(list)-1] - i\n",
        "  i = i + 1\n",
        "  if nextNum in list:\n",
        "    print('runner_up - ',nextNum)\n",
        "else: \n",
        "  print('runner_up - ',list[len(list)-2])"
      ],
      "execution_count": null,
      "outputs": [
        {
          "output_type": "stream",
          "text": [
            "enter the list to check: 1\n",
            "runner_up -  5\n"
          ],
          "name": "stdout"
        }
      ]
    }
  ]
}